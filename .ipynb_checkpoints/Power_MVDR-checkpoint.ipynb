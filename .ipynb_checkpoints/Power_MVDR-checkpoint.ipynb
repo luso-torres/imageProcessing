{
 "cells": [
  {
   "cell_type": "code",
   "execution_count": 6,
   "id": "f4c875e2-a5ac-4140-8a8c-ac55cc84997a",
   "metadata": {},
   "outputs": [],
   "source": [
    "import numpy as np\n",
    "\n",
    "def power_mvdr(theta,r):\n",
    "# steering vector in the desired direction theta_i\n",
    "\ts = np.exp(-2j*np.pi* d * np.arange(r.shape[0]) * np.sin(theta))\n",
    "\ts = s.reshape(-1,1) #make into a column vector 3x1\n",
    "\tR = (X @ X.conj().T)/X.shape[1] # calc covariance matrix. gives a Nr x Nr covariance matrix of the samples\n",
    "\tRinv = np.linalg.pinv(R) #3x3. pseudo-inverse tends to work better than a true inverse\n",
    "\treturn 1/(s.conj().T @ Rinv @ s).squeeze()"
   ]
  },
  {
   "cell_type": "code",
   "execution_count": 12,
   "id": "d27d4eba-bd61-4496-832a-c8d0dbd8d836",
   "metadata": {},
   "outputs": [],
   "source": [
    "#Generated signal:\n",
    "def generateSignal() -> np.ndarray:\n",
    "    d = 1\n",
    "    Nr = 8 #8 elements\n",
    "    theta1 = 20 / 180 * np.pi # convert to radians\n",
    "    theta2 = 25 / 180 * np.pi\n",
    "    theta3 = -40 / 180 * np.pi\n",
    "    s1 = np.exp(-2j * np.pi * d * np.arange(Nr) * np.sin(theta1)).reshape(-1,1) #8x1\n",
    "    s2 = np.exp(-2j * np.pi * d * np.arange(Nr) * np.sin(theta2)).reshape(-1,1)\n",
    "    s3 = np.exp(-2j * np.pi * d * np.arange(Nr) * np.sin(theta3)).reshape(-1,1)\n",
    "\n",
    "#frequencies\n",
    "    tone1 = np.exp(2j*np.pi*0.01e6*t).reshape(1,-1)\n",
    "    tone2 = np.exp(2j*np.pi*0.02e6*t).reshape(1,-1)\n",
    "    tone3 = np.exp(2j*np.pi*0.03e6*t).reshape(1,-1)\n",
    "    X = s1 @ tone1 + s2 @ tone2 + 0.1* s3 @ tone3 #note 1/10th\n",
    "    n = np.random.randn(Nr,N) + 1j*np.random.randn(Nr,N)\n",
    "    X = X+ 0.05*n #8xN\n",
    "    return X"
   ]
  },
  {
   "cell_type": "code",
   "execution_count": 13,
   "id": "64e851a9-22e6-4560-b249-5df3bfae1938",
   "metadata": {},
   "outputs": [
    {
     "ename": "NameError",
     "evalue": "name 't' is not defined",
     "output_type": "error",
     "traceback": [
      "\u001b[1;31m---------------------------------------------------------------------------\u001b[0m",
      "\u001b[1;31mNameError\u001b[0m                                 Traceback (most recent call last)",
      "Cell \u001b[1;32mIn[13], line 3\u001b[0m\n\u001b[0;32m      1\u001b[0m theta_scan \u001b[38;5;241m=\u001b[39m np\u001b[38;5;241m.\u001b[39mlinspace(\u001b[38;5;241m-\u001b[39m\u001b[38;5;241m1\u001b[39m\u001b[38;5;241m*\u001b[39mnp\u001b[38;5;241m.\u001b[39mpi, np\u001b[38;5;241m.\u001b[39mpi, \u001b[38;5;241m1000\u001b[39m) \u001b[38;5;66;03m# 1000 different thetas between -180 and +180 degrees\u001b[39;00m\n\u001b[0;32m      2\u001b[0m results \u001b[38;5;241m=\u001b[39m []\n\u001b[1;32m----> 3\u001b[0m r \u001b[38;5;241m=\u001b[39m \u001b[43mgenerateSignal\u001b[49m\u001b[43m(\u001b[49m\u001b[43m)\u001b[49m\n\u001b[0;32m      4\u001b[0m \u001b[38;5;28;01mfor\u001b[39;00m theta_i \u001b[38;5;129;01min\u001b[39;00m theta_scan:\n\u001b[0;32m      5\u001b[0m    \u001b[38;5;66;03m#w = w_mvdr(theta_i, r) # 3x1\u001b[39;00m\n\u001b[0;32m      6\u001b[0m    \u001b[38;5;66;03m#X_weighted = w.conj().T @ X # apply weights\u001b[39;00m\n\u001b[0;32m      7\u001b[0m    power_dB \u001b[38;5;241m=\u001b[39m \u001b[38;5;241m10\u001b[39m\u001b[38;5;241m*\u001b[39mnp\u001b[38;5;241m.\u001b[39mlog10(power_mvdr(theta_i,r)) \u001b[38;5;66;03m# power in signal, in dB so its easier to see small and large lobes at the same time\u001b[39;00m\n",
      "Cell \u001b[1;32mIn[12], line 13\u001b[0m, in \u001b[0;36mgenerateSignal\u001b[1;34m()\u001b[0m\n\u001b[0;32m     10\u001b[0m     s3 \u001b[38;5;241m=\u001b[39m np\u001b[38;5;241m.\u001b[39mexp(\u001b[38;5;241m-\u001b[39m\u001b[38;5;241m2\u001b[39mj \u001b[38;5;241m*\u001b[39m np\u001b[38;5;241m.\u001b[39mpi \u001b[38;5;241m*\u001b[39m d \u001b[38;5;241m*\u001b[39m np\u001b[38;5;241m.\u001b[39marange(Nr) \u001b[38;5;241m*\u001b[39m np\u001b[38;5;241m.\u001b[39msin(theta3))\u001b[38;5;241m.\u001b[39mreshape(\u001b[38;5;241m-\u001b[39m\u001b[38;5;241m1\u001b[39m,\u001b[38;5;241m1\u001b[39m)\n\u001b[0;32m     12\u001b[0m \u001b[38;5;66;03m#frequencies\u001b[39;00m\n\u001b[1;32m---> 13\u001b[0m     tone1 \u001b[38;5;241m=\u001b[39m np\u001b[38;5;241m.\u001b[39mexp(\u001b[38;5;241m2\u001b[39mj\u001b[38;5;241m*\u001b[39mnp\u001b[38;5;241m.\u001b[39mpi\u001b[38;5;241m*\u001b[39m\u001b[38;5;241m0.01e6\u001b[39m\u001b[38;5;241m*\u001b[39m\u001b[43mt\u001b[49m)\u001b[38;5;241m.\u001b[39mreshape(\u001b[38;5;241m1\u001b[39m,\u001b[38;5;241m-\u001b[39m\u001b[38;5;241m1\u001b[39m)\n\u001b[0;32m     14\u001b[0m     tone2 \u001b[38;5;241m=\u001b[39m np\u001b[38;5;241m.\u001b[39mexp(\u001b[38;5;241m2\u001b[39mj\u001b[38;5;241m*\u001b[39mnp\u001b[38;5;241m.\u001b[39mpi\u001b[38;5;241m*\u001b[39m\u001b[38;5;241m0.02e6\u001b[39m\u001b[38;5;241m*\u001b[39mt)\u001b[38;5;241m.\u001b[39mreshape(\u001b[38;5;241m1\u001b[39m,\u001b[38;5;241m-\u001b[39m\u001b[38;5;241m1\u001b[39m)\n\u001b[0;32m     15\u001b[0m     tone3 \u001b[38;5;241m=\u001b[39m np\u001b[38;5;241m.\u001b[39mexp(\u001b[38;5;241m2\u001b[39mj\u001b[38;5;241m*\u001b[39mnp\u001b[38;5;241m.\u001b[39mpi\u001b[38;5;241m*\u001b[39m\u001b[38;5;241m0.03e6\u001b[39m\u001b[38;5;241m*\u001b[39mt)\u001b[38;5;241m.\u001b[39mreshape(\u001b[38;5;241m1\u001b[39m,\u001b[38;5;241m-\u001b[39m\u001b[38;5;241m1\u001b[39m)\n",
      "\u001b[1;31mNameError\u001b[0m: name 't' is not defined"
     ]
    }
   ],
   "source": [
    "theta_scan = np.linspace(-1*np.pi, np.pi, 1000) # 1000 different thetas between -180 and +180 degrees\n",
    "results = []\n",
    "r = generateSignal()\n",
    "for theta_i in theta_scan:\n",
    "   #w = w_mvdr(theta_i, r) # 3x1\n",
    "   #X_weighted = w.conj().T @ X # apply weights\n",
    "   power_dB = 10*np.log10(power_mvdr(theta_i,r)) # power in signal, in dB so its easier to see small and large lobes at the same time\n",
    "   results.append(power_dB)\n",
    "results -= np.max(results) # normalize"
   ]
  }
 ],
 "metadata": {
  "kernelspec": {
   "display_name": "Python 3 (ipykernel)",
   "language": "python",
   "name": "python3"
  },
  "language_info": {
   "codemirror_mode": {
    "name": "ipython",
    "version": 3
   },
   "file_extension": ".py",
   "mimetype": "text/x-python",
   "name": "python",
   "nbconvert_exporter": "python",
   "pygments_lexer": "ipython3",
   "version": "3.11.9"
  }
 },
 "nbformat": 4,
 "nbformat_minor": 5
}
